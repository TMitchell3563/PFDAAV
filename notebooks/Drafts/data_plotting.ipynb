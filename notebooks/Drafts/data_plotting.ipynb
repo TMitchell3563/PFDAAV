{
 "cells": [
  {
   "cell_type": "markdown",
   "metadata": {},
   "source": [
    "# Class to plot data"
   ]
  },
  {
   "cell_type": "code",
   "execution_count": 1,
   "metadata": {},
   "outputs": [],
   "source": [
    "import matplotlib.pyplot as plt\n",
    "import pandas as pd\n",
    "from ipywidgets import interact, widgets"
   ]
  },
  {
   "cell_type": "code",
   "execution_count": 44,
   "metadata": {},
   "outputs": [],
   "source": [
    "class DataPlotter:\n",
    "    def __init__(self, filepath):\n",
    "        try:\n",
    "            self.df = pd.read_csv(filepath)\n",
    "            self.df.set_index(self.df.columns[0], drop = True, inplace = True)\n",
    "        except Exception as e:\n",
    "            print('File could not be read')\n",
    "            print(f'Error: {e}')\n",
    "\n",
    "    def _plot_bar_chart(self, col):\n",
    "        # Get the value counts for the column\n",
    "        counts = self.df[col].value_counts().sort_index()\n",
    "\n",
    "        # Plotting\n",
    "        plt.figure(figsize=(8, 6))\n",
    "        counts.plot(kind='bar')\n",
    "        plt.title('Number of Occurrences')\n",
    "        plt.xlabel(col)\n",
    "        plt.ylabel('Occurrences')\n",
    "        plt.xticks(rotation=0)  # Rotate x labels if needed\n",
    "        plt.grid(axis='y', linestyle='--', alpha=0.7)\n",
    "        plt.show()\n",
    "\n",
    "    def bar_chart(self):\n",
    "        # Dropdown menu widget\n",
    "        self.dropdown = widgets.Dropdown(options=self.df.columns.drop('Record_Number'), value='age', description='Factor: ')\n",
    "\n",
    "        # Interactive widget to update the plot based on dropdown selection\n",
    "        interact(self._plot_bar_chart, col=self.dropdown)\n",
    "        \n",
    "    def _plot_pie_chart(self, col, explode_val, explode_max):\n",
    "        # Get the value counts for the column\n",
    "        counts = self.df[col].value_counts().sort_index()\n",
    "\n",
    "        # Highlight the dominant category\n",
    "        explode = [0 if counts[x] / sum(counts) >= explode_max else explode_val for x in counts.index]\n",
    "        # Plot the pie chart            \n",
    "        plt.figure(figsize=(8, 6))\n",
    "        plt.pie(counts, labels=counts.index, autopct='%1.1f%%', startangle=140, explode=explode)\n",
    "        plt.title('Proportion of Occurrences')\n",
    "        plt.axis('equal')  # Equal aspect ratio ensures that pie is drawn as a circle.\n",
    "        plt.show() \n",
    "\n",
    "    def pie_chart(self):\n",
    "        # Dropdown menu widget\n",
    "        self.dropdown = widgets.Dropdown(options=self.df.columns.drop('Record_Number'), value='age', description='Factor: ')\n",
    "\n",
    "        # Sliders to control explosion\n",
    "        layout = widgets.Layout(width = '20%')\n",
    "        style = {'description_width': 'initial'}\n",
    "        self.explode_slider = widgets.FloatSlider(value=0.25, min=0, max=1.0, step=0.05, description='Small value explosion: ', layout = layout, style=style)\n",
    "        self.explode_max_slider = widgets.FloatSlider(value=0.05, min=0, max=1, step=0.005, description='Max value to explode: ', layout = layout, style=style)\n",
    "\n",
    "        # Interactive widget to update the plot based on dropdown selection\n",
    "        interact(self._plot_pie_chart, col=self.dropdown, explode_val = self.explode_slider, explode_max = self.explode_max_slider)\n",
    "\n",
    "\n"
   ]
  },
  {
   "cell_type": "code",
   "execution_count": 45,
   "metadata": {},
   "outputs": [
    {
     "data": {
      "application/vnd.jupyter.widget-view+json": {
       "model_id": "3b301ab8d293459a811af499b1d90a51",
       "version_major": 2,
       "version_minor": 0
      },
      "text/plain": [
       "interactive(children=(Dropdown(description='Factor: ', index=4, options=('Region', 'RESIDENCE_TYPE', 'Family_C…"
      ]
     },
     "metadata": {},
     "output_type": "display_data"
    }
   ],
   "source": [
    "dp = DataPlotter('D:\\\\University\\\\Python for Data Analysis\\\\Repos\\\\PFDAAV\\\\data\\\\Scotland_teaching_file_1PCT_refined.csv')\n",
    "dp.pie_chart()\n",
    "#dp.plot_bar_chart('Occupation')\n",
    "#dp.plot_bar_chart('Ethnic_Group')\n",
    "#dp.plot_pie_chart('health')\n",
    "#dp.plot_pie_chart('Ethnic_Group')"
   ]
  }
 ],
 "metadata": {
  "kernelspec": {
   "display_name": "Python 3",
   "language": "python",
   "name": "python3"
  },
  "language_info": {
   "codemirror_mode": {
    "name": "ipython",
    "version": 3
   },
   "file_extension": ".py",
   "mimetype": "text/x-python",
   "name": "python",
   "nbconvert_exporter": "python",
   "pygments_lexer": "ipython3",
   "version": "3.10.11"
  }
 },
 "nbformat": 4,
 "nbformat_minor": 2
}
