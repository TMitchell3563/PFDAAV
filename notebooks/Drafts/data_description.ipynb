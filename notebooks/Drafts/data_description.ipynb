{
 "cells": [
  {
   "cell_type": "markdown",
   "metadata": {},
   "source": [
    "# Descriptive analysis"
   ]
  },
  {
   "cell_type": "code",
   "execution_count": 1,
   "metadata": {},
   "outputs": [],
   "source": [
    "import pandas as pd\n",
    "import seaborn as sns\n",
    "import matplotlib.pyplot as plt\n",
    "from ipywidgets import interact, widgets"
   ]
  },
  {
   "cell_type": "code",
   "execution_count": 111,
   "metadata": {},
   "outputs": [],
   "source": [
    "class DataDescriber:\n",
    "    def __init__(self, filepath):\n",
    "        try:\n",
    "            self.df = pd.read_csv(filepath)\n",
    "            self.df.set_index(self.df.columns[0], drop = True, inplace = True)\n",
    "        except Exception as e:\n",
    "            print('File could not be read')\n",
    "            print(f'Error: {e}')\n",
    "\n",
    "    def no_records(self):\n",
    "        n = len(self.df)\n",
    "        print(f'The data set has {n} rows')\n",
    "\n",
    "    def col_types(self):\n",
    "        for i in self.df.columns:\n",
    "            dtype = type(self.df[i][0])\n",
    "            print(f'Column {i} is of data type {dtype}')\n",
    "        \n",
    "    def unique_values(self):\n",
    "        cols = [x for x in list(self.df.columns) if x not in ['Record_Number', 'Region']]\n",
    "        for i in cols:\n",
    "            vals = self.df[i].unique()\n",
    "            vals.sort()\n",
    "            print(f'Column {i} takes values {vals}')\n",
    "\n",
    "    def _grouped_no_records(self, col1, col2, col1_vals = 'None', col2_vals = 'None', summary_stats = 'None', proportional = 'Count'):\n",
    "        grouped_mi = self.df.groupby([col1, col2])['Record_Number'].count()\n",
    "        grouped_df = pd.DataFrame(grouped_mi)\n",
    "        # If specified, only select values parsed to function\n",
    "        if col1_vals != 'None':\n",
    "            grouped_df = grouped_df[grouped_df.index.get_level_values(0).isin(col1_vals)] \n",
    "        if col2_vals != 'None':\n",
    "            grouped_df = grouped_df[grouped_df.index.get_level_values(1).isin(col2_vals)]\n",
    "        # If specified, group all values of specified column\n",
    "        if summary_stats == col1:\n",
    "            grouped_df.index = grouped_df.index.droplevel(col2)\n",
    "            grouped_df = grouped_df.groupby(col2).sum()\n",
    "            if proportional == 'Proportion':\n",
    "                grouped_df = grouped_df.div(grouped_df.sum().sum())\n",
    "                grouped_df.rename(columns = {'Record_Number': 'Proportion of Records'}, inplace = True)\n",
    "                fmt = '.2f'\n",
    "            else:\n",
    "                grouped_df.rename(columns = {'Record_Number': 'Number of Records'}, inplace = True)\n",
    "                fmt = 'd'\n",
    "            plt.figure(figsize=(14, 10))\n",
    "            sns.heatmap(grouped_df, annot=True, cmap=\"YlGnBu\", fmt=fmt, cbar=True, square = True, cbar_kws={'shrink': 0.5},\n",
    "                    linecolor='gray', linewidth=0.2)\n",
    "            return\n",
    "        if summary_stats == col2:\n",
    "            grouped_df.index = grouped_df.index.droplevel(col1)\n",
    "            grouped_df = grouped_df.groupby(col1).sum()\n",
    "            if proportional == 'Proportion':\n",
    "                grouped_df = grouped_df.div(grouped_df.sum().sum())\n",
    "                grouped_df.rename(columns = {'Record_Number': 'Proportion of Records'}, inplace = True)\n",
    "                fmt = '.2f'\n",
    "            else:\n",
    "                grouped_df.rename(columns = {'Record_Number': 'Number of Records'}, inplace = True)\n",
    "                fmt = 'd'\n",
    "            plt.figure(figsize=(14, 10))\n",
    "            sns.heatmap(grouped_df, annot=True, cmap=\"YlGnBu\", fmt=fmt, cbar=True, square = True, cbar_kws={'shrink': 0.5},\n",
    "                        linecolor='gray', linewidth=0.2)\n",
    "            return\n",
    "        grouped_df = grouped_df.unstack().fillna(0).astype(int)\n",
    "        grouped_df.columns = grouped_df.columns.droplevel()\n",
    "        if 'X' in grouped_df.columns:\n",
    "            sorted_cols = [str(x) for x in sorted([int(x) for x in grouped_df.columns if x != 'X'])]\n",
    "            sorted_cols.append('X')\n",
    "        else:\n",
    "            sorted_cols = sorted(grouped_df.columns)\n",
    "        grouped_df = grouped_df.reindex(sorted_cols, axis = 1)\n",
    "        fmt = 'd'\n",
    "\n",
    "        if proportional == 'Proportion':\n",
    "            grouped_df = grouped_df.div(grouped_df.sum().sum())\n",
    "            fmt = '.2f'\n",
    "        \n",
    "        # Plot heatmap\n",
    "        plt.figure(figsize=(14, 10))\n",
    "        sns.heatmap(grouped_df, annot=True, cmap=\"YlGnBu\", fmt=fmt, cbar=True, square = True, cbar_kws={'shrink': 0.5},\n",
    "                    linecolor='gray', linewidth=0.2)\n",
    "        plt.show()\n",
    "        \n",
    "    def _update_col1_values(self, col1):\n",
    "        unique_values = sorted(self.df[col1].unique())\n",
    "        self.col1_vals.options = unique_values\n",
    "        self.col1_vals.value = unique_values\n",
    "        self.col1_vals.description = f'{col1}: '\n",
    "        self.dropdown4.options = ['None', col1, self.dropdown2.value]\n",
    "    \n",
    "    def _update_col2_values(self, col2):\n",
    "        unique_values = sorted(self.df[col2].unique())\n",
    "        self.col2_vals.options = unique_values\n",
    "        self.col2_vals.value = unique_values\n",
    "        self.col2_vals.description = f'{col2}: '\n",
    "        self.dropdown4.options = ['None', self.dropdown2.value, col2]\n",
    "\n",
    "        \n",
    "    def group_data(self):\n",
    "        # Dropdown menu widget\n",
    "        self.dropdown1 = widgets.Dropdown(options=self.df.columns.drop('Record_Number'), value='age', description='Factor: ')\n",
    "        self.dropdown2 = widgets.Dropdown(options=self.df.columns.drop('Record_Number'), value='health', description='Factor: ')\n",
    "        self.dropdown3 = widgets.Dropdown(options=['Count', 'Proportion'], value='Count', description='Factor: ')\n",
    "        # Checkbox widgets for selecting column values\n",
    "        style = {'description_width': 'initial'}\n",
    "        col1_values = sorted(self.df[self.dropdown1.value].unique())\n",
    "        self.col1_vals = widgets.SelectMultiple(options=col1_values, value=col1_values, description=f'{self.dropdown1.value}:', style = style)\n",
    "        col2_values = sorted(self.df[self.dropdown2.value].unique())\n",
    "        self.col2_vals = widgets.SelectMultiple(options=col2_values, value=col2_values, description=f'{self.dropdown2.value}:', style = style)\n",
    "\n",
    "        self.dropdown4 = widgets.Dropdown(options = ['None', self.dropdown1.value, self.dropdown2.value], value = 'None', description = 'Summary stats: ', style = style)\n",
    "        \n",
    "        # Update checkbox values when dropdown values change\n",
    "        self.dropdown1.observe(lambda change: self._update_col1_values(change.new), names='value')\n",
    "        self.dropdown2.observe(lambda change: self._update_col2_values(change.new), names='value')\n",
    "        \n",
    "        # Interactive widget to update the plot based on dropdown selection\n",
    "        interact(self._grouped_no_records, col1=self.dropdown1, col2 = self.dropdown2, col1_vals=self.col1_vals, \n",
    "                 col2_vals= self.col2_vals, summary_stats = self.dropdown4, proportional = self.dropdown3)\n"
   ]
  },
  {
   "cell_type": "code",
   "execution_count": 112,
   "metadata": {},
   "outputs": [
    {
     "data": {
      "application/vnd.jupyter.widget-view+json": {
       "model_id": "1098ce8bd5664b379a4ce86e0717d3bb",
       "version_major": 2,
       "version_minor": 0
      },
      "text/plain": [
       "interactive(children=(Dropdown(description='Factor: ', index=4, options=('Region', 'RESIDENCE_TYPE', 'Family_C…"
      ]
     },
     "metadata": {},
     "output_type": "display_data"
    },
    {
     "data": {
      "text/plain": [
       "<Figure size 1400x1000 with 0 Axes>"
      ]
     },
     "metadata": {},
     "output_type": "display_data"
    }
   ],
   "source": [
    "dd = DataDescriber('D:\\\\University\\\\Python for Data Analysis\\\\Repos\\\\PFDAAV\\\\data\\\\Scotland_teaching_file_1PCT_refined.csv')\n",
    "#dd.grouped_no_records('Hours_Worked_Per_Week', 'industry', proportional=True)\n",
    "# dd.grouped_no_records('Occupation', 'Approximate_Social_Grade')\n",
    "# dd._grouped_no_records('age', 'Economic_Activity', col2_vals = ['1', '2', '3', '4'], col2_group = True)\n",
    "# dd.grouped_no_records('health', 'Economic_Activity', col2_vals = ['5', '6', '7', '8', '9'], col2_group = True)\n",
    "#dd._grouped_no_records('Hours_Worked_Per_Week', 'Economic_Activity', col2_vals = ['4', '6'])\n",
    "dd.group_data()"
   ]
  },
  {
   "cell_type": "code",
   "execution_count": 55,
   "metadata": {},
   "outputs": [
    {
     "name": "stdout",
     "output_type": "stream",
     "text": [
      "The data set has 63388 rows\n",
      "Column Record_Number is of data type <class 'numpy.int64'>\n",
      "Column Region is of data type <class 'str'>\n",
      "Column RESIDENCE_TYPE is of data type <class 'str'>\n",
      "Column Family_Composition is of data type <class 'str'>\n",
      "Column sex is of data type <class 'numpy.int64'>\n",
      "Column age is of data type <class 'numpy.int64'>\n",
      "Column Marital_Status is of data type <class 'numpy.int64'>\n",
      "Column student is of data type <class 'numpy.int64'>\n",
      "Column Country_Of_Birth is of data type <class 'numpy.int64'>\n",
      "Column health is of data type <class 'numpy.int64'>\n",
      "Column Ethnic_Group is of data type <class 'numpy.int64'>\n",
      "Column religion is of data type <class 'numpy.int64'>\n",
      "Column Economic_Activity is of data type <class 'str'>\n",
      "Column Occupation is of data type <class 'str'>\n",
      "Column industry is of data type <class 'str'>\n",
      "Column Hours_Worked_Per_Week is of data type <class 'str'>\n",
      "Column Approximate_Social_Grade is of data type <class 'str'>\n",
      "Column RESIDENCE_TYPE takes values ['C' 'P']\n",
      "Column Family_Composition takes values ['0' '1' '2' '3' '4' '5' 'X']\n",
      "Column sex takes values [1 2]\n",
      "Column age takes values [1 2 3 4 5 6 7 8]\n",
      "Column Marital_Status takes values [1 2 3 4 5]\n",
      "Column student takes values [1 2]\n",
      "Column Country_Of_Birth takes values [1 2]\n",
      "Column health takes values [1 2 3 4 5]\n",
      "Column Ethnic_Group takes values [1 2 3 4 5 6]\n",
      "Column religion takes values [1 2 3 4 5 6 7 8 9]\n",
      "Column Economic_Activity takes values ['1' '2' '3' '4' '5' '6' '7' '8' '9' 'X']\n",
      "Column Occupation takes values ['1' '2' '3' '4' '5' '6' '7' '8' '9' 'X']\n",
      "Column industry takes values ['1' '10' '11' '12' '13' '2' '3' '4' '5' '6' '7' '8' '9' 'X']\n",
      "Column Hours_Worked_Per_Week takes values ['1' '2' '3' '4' 'X']\n",
      "Column Approximate_Social_Grade takes values ['1' '2' '3' '4' 'X']\n"
     ]
    }
   ],
   "source": [
    "dd = DataDescriber('D:\\\\University\\\\Python for Data Analysis\\\\Repos\\\\PFDAAV\\\\data\\\\Scotland_teaching_file_1PCT_refined.csv')\n",
    "dd.no_records()\n",
    "dd.col_types()\n",
    "dd.unique_values()"
   ]
  }
 ],
 "metadata": {
  "kernelspec": {
   "display_name": "Python 3",
   "language": "python",
   "name": "python3"
  },
  "language_info": {
   "codemirror_mode": {
    "name": "ipython",
    "version": 3
   },
   "file_extension": ".py",
   "mimetype": "text/x-python",
   "name": "python",
   "nbconvert_exporter": "python",
   "pygments_lexer": "ipython3",
   "version": "3.10.11"
  }
 },
 "nbformat": 4,
 "nbformat_minor": 2
}
