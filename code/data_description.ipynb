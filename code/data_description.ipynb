{
 "cells": [
  {
   "cell_type": "markdown",
   "metadata": {},
   "source": [
    "# Descriptive analysis"
   ]
  },
  {
   "cell_type": "code",
   "execution_count": null,
   "metadata": {},
   "outputs": [],
   "source": [
    "import pandas as pd"
   ]
  },
  {
   "cell_type": "code",
   "execution_count": 54,
   "metadata": {},
   "outputs": [],
   "source": [
    "class DataDescriber:\n",
    "    def __init__(self, filepath):\n",
    "        try:\n",
    "            self.df = pd.read_csv(filepath)\n",
    "            self.df.set_index(self.df.columns[0], drop = True, inplace = True)\n",
    "        except Exception as e:\n",
    "            print('File could not be read')\n",
    "            print(f'Error: {e}')\n",
    "\n",
    "    def no_records(self):\n",
    "        n = len(self.df)\n",
    "        print(f'The data set has {n} rows')\n",
    "\n",
    "    def col_types(self):\n",
    "        for i in self.df.columns:\n",
    "            dtype = type(self.df[i][0])\n",
    "            print(f'Column {i} is of data type {dtype}')\n",
    "        \n",
    "    def unique_values(self):\n",
    "        cols = [x for x in list(self.df.columns) if x not in ['Record_Number', 'Region']]\n",
    "        for i in cols:\n",
    "            vals = self.df[i].unique()\n",
    "            vals.sort()\n",
    "            print(f'Column {i} takes values {vals}')\n"
   ]
  },
  {
   "cell_type": "code",
   "execution_count": 55,
   "metadata": {},
   "outputs": [
    {
     "name": "stdout",
     "output_type": "stream",
     "text": [
      "The data set has 63388 rows\n",
      "Column Record_Number is of data type <class 'numpy.int64'>\n",
      "Column Region is of data type <class 'str'>\n",
      "Column RESIDENCE_TYPE is of data type <class 'str'>\n",
      "Column Family_Composition is of data type <class 'str'>\n",
      "Column sex is of data type <class 'numpy.int64'>\n",
      "Column age is of data type <class 'numpy.int64'>\n",
      "Column Marital_Status is of data type <class 'numpy.int64'>\n",
      "Column student is of data type <class 'numpy.int64'>\n",
      "Column Country_Of_Birth is of data type <class 'numpy.int64'>\n",
      "Column health is of data type <class 'numpy.int64'>\n",
      "Column Ethnic_Group is of data type <class 'numpy.int64'>\n",
      "Column religion is of data type <class 'numpy.int64'>\n",
      "Column Economic_Activity is of data type <class 'str'>\n",
      "Column Occupation is of data type <class 'str'>\n",
      "Column industry is of data type <class 'str'>\n",
      "Column Hours_Worked_Per_Week is of data type <class 'str'>\n",
      "Column Approximate_Social_Grade is of data type <class 'str'>\n",
      "Column RESIDENCE_TYPE takes values ['C' 'P']\n",
      "Column Family_Composition takes values ['0' '1' '2' '3' '4' '5' 'X']\n",
      "Column sex takes values [1 2]\n",
      "Column age takes values [1 2 3 4 5 6 7 8]\n",
      "Column Marital_Status takes values [1 2 3 4 5]\n",
      "Column student takes values [1 2]\n",
      "Column Country_Of_Birth takes values [1 2]\n",
      "Column health takes values [1 2 3 4 5]\n",
      "Column Ethnic_Group takes values [1 2 3 4 5 6]\n",
      "Column religion takes values [1 2 3 4 5 6 7 8 9]\n",
      "Column Economic_Activity takes values ['1' '2' '3' '4' '5' '6' '7' '8' '9' 'X']\n",
      "Column Occupation takes values ['1' '2' '3' '4' '5' '6' '7' '8' '9' 'X']\n",
      "Column industry takes values ['1' '10' '11' '12' '13' '2' '3' '4' '5' '6' '7' '8' '9' 'X']\n",
      "Column Hours_Worked_Per_Week takes values ['1' '2' '3' '4' 'X']\n",
      "Column Approximate_Social_Grade takes values ['1' '2' '3' '4' 'X']\n"
     ]
    }
   ],
   "source": [
    "dd = DataDescriber('D:\\\\University\\\\Python for Data Analysis\\\\Repos\\\\PFDAAV\\\\data\\\\Scotland_teaching_file_1PCT_refined.csv')\n",
    "dd.no_records()\n",
    "dd.col_types()\n",
    "dd.unique_values()"
   ]
  }
 ],
 "metadata": {
  "kernelspec": {
   "display_name": "Python 3",
   "language": "python",
   "name": "python3"
  },
  "language_info": {
   "codemirror_mode": {
    "name": "ipython",
    "version": 3
   },
   "file_extension": ".py",
   "mimetype": "text/x-python",
   "name": "python",
   "nbconvert_exporter": "python",
   "pygments_lexer": "ipython3",
   "version": "3.10.11"
  }
 },
 "nbformat": 4,
 "nbformat_minor": 2
}
