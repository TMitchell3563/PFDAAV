{
 "cells": [
  {
   "cell_type": "code",
   "execution_count": 41,
   "metadata": {},
   "outputs": [],
   "source": [
    "import pandas as pd\n",
    "import math"
   ]
  },
  {
   "cell_type": "code",
   "execution_count": 42,
   "metadata": {},
   "outputs": [],
   "source": [
    "df = pd.read_excel('..\\data\\Teaching_File_Variable_List.xlsx')\n",
    "df.drop(0, inplace = True)"
   ]
  },
  {
   "cell_type": "code",
   "execution_count": 44,
   "metadata": {},
   "outputs": [],
   "source": [
    "for i in range(len(df['Variable Name'])):\n",
    "    try:\n",
    "        if math.isnan(df.iloc[i, 0]):\n",
    "            df.iloc[i, 0] = df.iloc[i - 1, 0]\n",
    "            df.iloc[i, 1] = df.iloc[i - 1, 1]\n",
    "    except:\n",
    "        next\n",
    "\n",
    "df[['Alphanumerical', 'Desc']] = df['Variable Values'].str.split('.', expand=True)\n",
    "df.drop(columns=['Variable Values'], inplace=True)\n",
    "df['Desc'] = df['Desc'].str.strip()\n",
    "variable_dict = {k:{v: s for v, s in zip(df.loc[df['Variable Name'] == k, 'Alphanumerical'], df.loc[df['Variable Name'] == k, 'Desc'])} for k in df['Variable Name']}"
   ]
  },
  {
   "cell_type": "code",
   "execution_count": 45,
   "metadata": {},
   "outputs": [
    {
     "data": {
      "text/plain": [
       "{'Record_Number': {'Unique reference ID': None},\n",
       " 'Region': {'S92000003': None},\n",
       " 'Residence_Type': {'C': ' Resident in a Communal Establishment',\n",
       "  'P': ' Not resident in a Communal Establishment'},\n",
       " 'Family_Composition': {'0': ' Not in a family',\n",
       "  '1': ' Married/same-sex civil partnership couple family',\n",
       "  '2': ' Cohabiting couple family',\n",
       "  '3': ' Lone parent family (male head)',\n",
       "  '4': ' Lone parent family (female lead)',\n",
       "  '5': ' Other related family',\n",
       "  'X': ' No code required (residents of a communal establishment)'},\n",
       " 'Sex': {'1': ' Male', '2': ' Female'},\n",
       " 'Age': {'1': ' 0 to 15',\n",
       "  '2': ' 16 to 24',\n",
       "  '3': ' 25 to 34',\n",
       "  '4': ' 35 to 44',\n",
       "  '5': ' 45 to 54',\n",
       "  '6': ' 55 to 64',\n",
       "  '7': ' 65 to 74',\n",
       "  '8': ' 75 and over'},\n",
       " 'Marital_Status': {'1': ' Single (Never married or never registered a same-sex civil partnership',\n",
       "  '2': ' Married or in a same sex-civil partnership',\n",
       "  '3': ' Separated, but still legally married or still legally in a same-sex civil partnership',\n",
       "  '4': ' Divorced or formerly in a same-sex civil partnership which is now legally dissolved',\n",
       "  '5': ' Widowed or surviving partner from a same-sex civil partnership'},\n",
       " 'Student (Schoolchild or full-time student)': {'1': ' Yes', '2': ' No'},\n",
       " 'Country_Of_Birth': {'1': ' UK', '2': ' Non UK'},\n",
       " 'Health (General health)': {'1': ' Very good health',\n",
       "  '2': ' Good health',\n",
       "  '3': ' Fair health',\n",
       "  '4': ' Bad health',\n",
       "  '5': ' Very bad health'},\n",
       " 'Ethnic_Group': {'1': ' White',\n",
       "  '2': ' Mixed or multiple ethnic group',\n",
       "  '3': ' Asian',\n",
       "  '4': ' African',\n",
       "  '5': ' Caribbean or black',\n",
       "  '6': ' Other ethnic group'},\n",
       " 'Religion': {'1': ' No religion',\n",
       "  '2': ' Christian',\n",
       "  '3': ' Buddhist',\n",
       "  '4': ' Hindu',\n",
       "  '5': ' Jewish',\n",
       "  '6': ' Muslim',\n",
       "  '7': ' Sikh',\n",
       "  '8': ' Other religion',\n",
       "  '9': ' Not stated'},\n",
       " 'Economic_Activity': {'1': ' Economically active: Employed',\n",
       "  '2': ' Economically active: Self-Employed',\n",
       "  '3': ' Economically active: Unemployed',\n",
       "  '4': ' Economically active: Full-time student',\n",
       "  '5': ' Economically inactive: Retired',\n",
       "  '6': ' Economically inactive: Student',\n",
       "  '7': ' Economically inactive: Looking after home or family',\n",
       "  '8': ' Economically inactive: Long-term sick or disabled',\n",
       "  '9': ' Economically inactive: Other',\n",
       "  'X': ' No code required (Aged under 16)'},\n",
       " 'Occupation': {'1': ' Managers, Directors and Senior Officials',\n",
       "  '2': ' Professional Occupations',\n",
       "  '3': ' Associate Professional and Technical Occupations',\n",
       "  '4': ' Administrative and Secretarial Occupations',\n",
       "  '5': ' Skilled Trades Occupations',\n",
       "  '6': ' Caring, Leisure and Other Service Occupations',\n",
       "  '7': ' Sales and Customer Service Occupations',\n",
       "  '8': ' Process, Plant and Machine Operatives',\n",
       "  '9': ' Elementary Occupations',\n",
       "  'X': ' No code required (People aged under 16 and people who have never worked)'},\n",
       " 'Industry': {'1': ' Agriculture, forestry and fishing',\n",
       "  '2': ' Mining and quarrying; Manufacturing; Electricity, gas, steam and air conditioning system; Water supply',\n",
       "  '3': ' Construction',\n",
       "  '4': ' Wholesale and retail trade; Repair of motor vehicles and motorcycles',\n",
       "  '5': ' Accommodation and food service activities',\n",
       "  '6': ' Transport and storage; Information and communication',\n",
       "  '7': ' Financial and insurance activities',\n",
       "  '8': ' Real estate activities; Professional scientific and technical activities; Administrative and support service activities',\n",
       "  '9': ' Public administration and defence',\n",
       "  '10': ' Education',\n",
       "  '11': ' Human health and social work activities',\n",
       "  '12': ' Arts; entertainment and recreation',\n",
       "  '13': ' Other',\n",
       "  'X': ' No code required (People aged under 16 and people who have never worked)'},\n",
       " 'Hours_Worked_Per_Week': {'1': ' Part-time: 15 or less hours worked',\n",
       "  '2': ' Part-time: 16 to 30 hours worked',\n",
       "  '3': ' Full-time: 31 to 48 hours worked',\n",
       "  '4': ' Full-time 49 or more hours worked',\n",
       "  'X': ' No code required (People aged under 16 and people not working)'},\n",
       " 'Approximate_Social_Grade': {'1': ' AB',\n",
       "  '2': ' C1',\n",
       "  '3': ' C2',\n",
       "  '4': ' DE',\n",
       "  'X': ' No code required ( People aged under 16 and people resident in communal establishments)'}}"
      ]
     },
     "execution_count": 45,
     "metadata": {},
     "output_type": "execute_result"
    }
   ],
   "source": [
    "variable_dict"
   ]
  },
  {
   "cell_type": "code",
   "execution_count": null,
   "metadata": {},
   "outputs": [
    {
     "data": {
      "text/plain": [
       "{'Unique reference ID': None,\n",
       " 'S92000003': None,\n",
       " 'C': ' Resident in a Communal Establishment',\n",
       " 'P': ' Not resident in a Communal Establishment',\n",
       " '0': ' Not in a family',\n",
       " '1': ' AB',\n",
       " '2': ' C1',\n",
       " '3': ' C2',\n",
       " '4': ' DE',\n",
       " '5': ' Accommodation and food service activities',\n",
       " 'X': ' No code required ( People aged under 16 and people resident in communal establishments)',\n",
       " '6': ' Transport and storage; Information and communication',\n",
       " '7': ' Financial and insurance activities',\n",
       " '8': ' Real estate activities; Professional scientific and technical activities; Administrative and support service activities',\n",
       " '9': ' Public administration and defence',\n",
       " '10': ' Education',\n",
       " '11': ' Human health and social work activities',\n",
       " '12': ' Arts; entertainment and recreation',\n",
       " '13': ' Other'}"
      ]
     },
     "execution_count": 38,
     "metadata": {},
     "output_type": "execute_result"
    }
   ],
   "source": [
    "{k: v for k, v in zip(df['Alphanumerical'], df['Desc'])}"
   ]
  }
 ],
 "metadata": {
  "kernelspec": {
   "display_name": "Python 3",
   "language": "python",
   "name": "python3"
  },
  "language_info": {
   "codemirror_mode": {
    "name": "ipython",
    "version": 3
   },
   "file_extension": ".py",
   "mimetype": "text/x-python",
   "name": "python",
   "nbconvert_exporter": "python",
   "pygments_lexer": "ipython3",
   "version": "3.10.11"
  }
 },
 "nbformat": 4,
 "nbformat_minor": 2
}
